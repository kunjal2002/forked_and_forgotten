{
  "cells": [
    {
      "cell_type": "code",
      "execution_count": null,
      "metadata": {
        "colab": {
          "base_uri": "https://localhost:8080/"
        },
        "id": "SbsqXUxWaE7Y",
        "outputId": "cc3fceac-cfd6-4e63-9cb2-09f69689b9f5"
      },
      "outputs": [
        {
          "output_type": "stream",
          "name": "stdout",
          "text": [
            "Collecting PyGithub\n",
            "  Downloading PyGithub-2.6.1-py3-none-any.whl.metadata (3.9 kB)\n",
            "Collecting pynacl>=1.4.0 (from PyGithub)\n",
            "  Downloading PyNaCl-1.5.0-cp36-abi3-manylinux_2_17_x86_64.manylinux2014_x86_64.manylinux_2_24_x86_64.whl.metadata (8.6 kB)\n",
            "Requirement already satisfied: requests>=2.14.0 in /usr/local/lib/python3.11/dist-packages (from PyGithub) (2.32.3)\n",
            "Requirement already satisfied: pyjwt>=2.4.0 in /usr/local/lib/python3.11/dist-packages (from pyjwt[crypto]>=2.4.0->PyGithub) (2.10.1)\n",
            "Requirement already satisfied: typing-extensions>=4.0.0 in /usr/local/lib/python3.11/dist-packages (from PyGithub) (4.12.2)\n",
            "Requirement already satisfied: urllib3>=1.26.0 in /usr/local/lib/python3.11/dist-packages (from PyGithub) (2.3.0)\n",
            "Requirement already satisfied: Deprecated in /usr/local/lib/python3.11/dist-packages (from PyGithub) (1.2.18)\n",
            "Requirement already satisfied: cryptography>=3.4.0 in /usr/local/lib/python3.11/dist-packages (from pyjwt[crypto]>=2.4.0->PyGithub) (43.0.3)\n",
            "Requirement already satisfied: cffi>=1.4.1 in /usr/local/lib/python3.11/dist-packages (from pynacl>=1.4.0->PyGithub) (1.17.1)\n",
            "Requirement already satisfied: charset-normalizer<4,>=2 in /usr/local/lib/python3.11/dist-packages (from requests>=2.14.0->PyGithub) (3.4.1)\n",
            "Requirement already satisfied: idna<4,>=2.5 in /usr/local/lib/python3.11/dist-packages (from requests>=2.14.0->PyGithub) (3.10)\n",
            "Requirement already satisfied: certifi>=2017.4.17 in /usr/local/lib/python3.11/dist-packages (from requests>=2.14.0->PyGithub) (2025.1.31)\n",
            "Requirement already satisfied: wrapt<2,>=1.10 in /usr/local/lib/python3.11/dist-packages (from Deprecated->PyGithub) (1.17.2)\n",
            "Requirement already satisfied: pycparser in /usr/local/lib/python3.11/dist-packages (from cffi>=1.4.1->pynacl>=1.4.0->PyGithub) (2.22)\n",
            "Downloading PyGithub-2.6.1-py3-none-any.whl (410 kB)\n",
            "\u001b[2K   \u001b[90m━━━━━━━━━━━━━━━━━━━━━━━━━━━━━━━━━━━━━━━━\u001b[0m \u001b[32m410.5/410.5 kB\u001b[0m \u001b[31m7.4 MB/s\u001b[0m eta \u001b[36m0:00:00\u001b[0m\n",
            "\u001b[?25hDownloading PyNaCl-1.5.0-cp36-abi3-manylinux_2_17_x86_64.manylinux2014_x86_64.manylinux_2_24_x86_64.whl (856 kB)\n",
            "\u001b[2K   \u001b[90m━━━━━━━━━━━━━━━━━━━━━━━━━━━━━━━━━━━━━━━━\u001b[0m \u001b[32m856.7/856.7 kB\u001b[0m \u001b[31m20.3 MB/s\u001b[0m eta \u001b[36m0:00:00\u001b[0m\n",
            "\u001b[?25hInstalling collected packages: pynacl, PyGithub\n",
            "Successfully installed PyGithub-2.6.1 pynacl-1.5.0\n"
          ]
        }
      ],
      "source": [
        "!pip install PyGithub"
      ]
    },
    {
      "cell_type": "code",
      "execution_count": null,
      "metadata": {
        "id": "9S6NogAZakwK"
      },
      "outputs": [],
      "source": [
        "import os\n",
        "import logging\n",
        "from github import Github\n",
        "import concurrent.futures\n",
        "\n",
        "# Initialize logging\n",
        "logging.basicConfig(level=logging.INFO)\n",
        "\n",
        "# Initialize GitHub API client\n",
        "g = Github(\"\")  # Replace with your GitHub token\n",
        "\n",
        "def extract_content(repo, path=\"\"):\n",
        "    \"\"\"\n",
        "    Recursively extracts the content of all files in a repository.\n",
        "\n",
        "    :param repo: The GitHub repository object.\n",
        "    :param path: The path within the repository to start extracting from.\n",
        "    :return: A list of tuples containing file paths and their contents.\n",
        "    \"\"\"\n",
        "    contents = repo.get_contents(path)\n",
        "    extracted_content = []\n",
        "\n",
        "    for content in contents:\n",
        "        if content.type == \"file\":\n",
        "            try:\n",
        "                decoded_content = content.decoded_content.decode('utf-8', errors='ignore')\n",
        "                extracted_content.append((content.path, decoded_content))\n",
        "            except Exception as e:\n",
        "                logging.warning(f\"Skipping file {content.path}: {e}\")\n",
        "        elif content.type == \"dir\":\n",
        "            extracted_content.extend(extract_content(repo, content.path))\n",
        "\n",
        "    return extracted_content\n",
        "\n",
        "def count_lines_and_files(extracted_content):\n",
        "    \"\"\"\n",
        "    Counts the total lines of code and files from extracted content.\n",
        "\n",
        "    :param extracted_content: A list of tuples containing file paths and their contents.\n",
        "    :return: A tuple containing the total number of files and lines of code.\n",
        "    \"\"\"\n",
        "    total_files = len(extracted_content)\n",
        "    total_loc = sum(len(content.splitlines()) for _, content in extracted_content)\n",
        "\n",
        "    return total_files, total_loc\n",
        "\n",
        "def get_repo_data(repo_name):\n",
        "    try:\n",
        "        repo = g.get_repo(repo_name)\n",
        "    except Exception as e:\n",
        "        logging.error(f\"Failed to fetch repository {repo_name}: {e}\")\n",
        "        return None\n",
        "\n",
        "    # Extract content\n",
        "    extracted_content = extract_content(repo)\n",
        "\n",
        "    # Count lines and files\n",
        "    total_files, total_loc = count_lines_and_files(extracted_content)\n",
        "\n",
        "    # Fetch other repository data\n",
        "    issues = repo.get_issues(state='all')\n",
        "    pull_requests = repo.get_pulls(state='all')\n",
        "    open_issues = sum(1 for issue in issues if issue.state == 'open')\n",
        "    closed_issues = sum(1 for issue in issues if issue.state == 'closed')\n",
        "    issue_resolution_ratio = (closed_issues / (closed_issues + open_issues)) * 100 if closed_issues + open_issues > 0 else 0\n",
        "    stars = repo.stargazers_count\n",
        "    forks = repo.forks_count\n",
        "    contributors = repo.get_contributors().totalCount\n",
        "\n",
        "    repo_data = {\n",
        "        \"Repository Name\": repo_name,\n",
        "        \"Stars\": stars,\n",
        "        \"Forks\": forks,\n",
        "        \"Total Issues\": issues.totalCount,\n",
        "        \"Total Pull Requests\": pull_requests.totalCount,\n",
        "        \"Total Files\": total_files,\n",
        "        \"Lines of Code\": total_loc,\n",
        "        \"Contributors\": contributors,\n",
        "        \"Open Issues\": open_issues,\n",
        "        \"Closed Issues\": closed_issues,\n",
        "        \"Issue Resolution Ratio (%)\": issue_resolution_ratio\n",
        "    }\n",
        "\n",
        "    return repo_data\n",
        "\n",
        "\n"
      ]
    },
    {
      "cell_type": "code",
      "execution_count": null,
      "metadata": {
        "colab": {
          "base_uri": "https://localhost:8080/"
        },
        "id": "jqHLcjLvzPqH",
        "outputId": "295170aa-66de-4db0-afcd-9260a394d69c"
      },
      "outputs": [
        {
          "output_type": "stream",
          "name": "stderr",
          "text": [
            "WARNING:root:Skipping file deps/amaro/dist/index.js: unsupported encoding: none\n",
            "WARNING:root:Skipping file deps/icu-small/source/data/in/icudt76l.dat.bz2: unsupported encoding: none\n",
            "Request GET /repos/nodejs/node/contents/deps/nghttp2/lib/includes/config.h?ref=main failed with 403: Forbidden\n",
            "INFO:github.GithubRetry:Request GET /repos/nodejs/node/contents/deps/nghttp2/lib/includes/config.h?ref=main failed with 403: Forbidden\n",
            "Setting next backoff to 586.770213s\n",
            "INFO:github.GithubRetry:Setting next backoff to 586.770213s\n",
            "Request GET /repos/nodejs/node/contents/deps/openssl/config/archs/darwin-i386-cc/no-asm/providers/common/include/prov failed with 403: Forbidden\n",
            "INFO:github.GithubRetry:Request GET /repos/nodejs/node/contents/deps/openssl/config/archs/darwin-i386-cc/no-asm/providers/common/include/prov failed with 403: Forbidden\n",
            "Setting next backoff to 1301.758133s\n",
            "INFO:github.GithubRetry:Setting next backoff to 1301.758133s\n",
            "WARNING:urllib3.connectionpool:Retrying (GithubRetry(total=9, connect=None, read=None, redirect=None, status=None)) after connection broken by 'RemoteDisconnected('Remote end closed connection without response')': /repos/nodejs/node/contents/deps/openssl/openssl/crypto/x509/ext_dat.h?ref=main\n",
            "Request GET /repos/nodejs/node/contents/deps/openssl/openssl/doc/man3/CRYPTO_memcmp.pod?ref=main failed with 403: Forbidden\n",
            "INFO:github.GithubRetry:Request GET /repos/nodejs/node/contents/deps/openssl/openssl/doc/man3/CRYPTO_memcmp.pod?ref=main failed with 403: Forbidden\n",
            "Setting next backoff to 1282.237131s\n",
            "INFO:github.GithubRetry:Setting next backoff to 1282.237131s\n",
            "WARNING:root:Skipping file deps/openssl/openssl/test/recipes/10-test_bn_data/bngcd.txt: unsupported encoding: none\n",
            "WARNING:root:Skipping file deps/openssl/openssl/test/recipes/30-test_evp_data/evprand.txt: unsupported encoding: none\n",
            "WARNING:root:Skipping file deps/simdjson/simdjson.cpp: unsupported encoding: none\n",
            "WARNING:root:Skipping file deps/simdjson/simdjson.h: unsupported encoding: none\n",
            "WARNING:root:Skipping file deps/simdutf/simdutf.cpp: unsupported encoding: none\n",
            "WARNING:root:Skipping file deps/sqlite/sqlite3.c: unsupported encoding: none\n",
            "Request GET /repos/nodejs/node/contents/deps/v8/src/compiler/backend/ppc/unwinding-info-writer-ppc.cc?ref=main failed with 403: Forbidden\n",
            "INFO:github.GithubRetry:Request GET /repos/nodejs/node/contents/deps/v8/src/compiler/backend/ppc/unwinding-info-writer-ppc.cc?ref=main failed with 403: Forbidden\n",
            "Setting next backoff to 1281.06979s\n",
            "INFO:github.GithubRetry:Setting next backoff to 1281.06979s\n",
            "WARNING:root:Skipping file deps/v8/test/cctest/test-api.cc: unsupported encoding: none\n",
            "Request GET /repos/nodejs/node/contents/deps/v8/test/message/fail/class-private-static-write-method.out?ref=main failed with 403: Forbidden\n",
            "INFO:github.GithubRetry:Request GET /repos/nodejs/node/contents/deps/v8/test/message/fail/class-private-static-write-method.out?ref=main failed with 403: Forbidden\n",
            "Setting next backoff to 1312.474798s\n",
            "INFO:github.GithubRetry:Setting next backoff to 1312.474798s\n"
          ]
        }
      ],
      "source": [
        "\n",
        "repo_names = ['nodejs/node']\n",
        "\n",
        "# Use ThreadPoolExecutor for parallel processing\n",
        "with concurrent.futures.ThreadPoolExecutor(max_workers=5) as executor:\n",
        "    futures = {executor.submit(get_repo_data, repo): repo for repo in repo_names}\n",
        "    data = []\n",
        "\n",
        "    for future in concurrent.futures.as_completed(futures):\n",
        "        repo_name = futures[future]\n",
        "        try:\n",
        "            repo_data = future.result()\n",
        "            if repo_data:\n",
        "                data.append(repo_data)\n",
        "        except Exception as e:\n",
        "            logging.error(f\"Error fetching {repo_name}: {e}\")\n",
        "\n",
        "print(data)"
      ]
    },
    {
      "cell_type": "code",
      "execution_count": null,
      "metadata": {
        "id": "c1jld_lKSizD"
      },
      "outputs": [],
      "source": [
        "# Define the CSV file name\n",
        "csv_file = '/content/drive/MyDrive/ECS 260 Term Project/repositories_info.csv'\n",
        "\n",
        "# Check if the file exists\n",
        "if os.path.isfile(csv_file):\n",
        "    # Append without header\n",
        "    df.to_csv(csv_file, mode='a', header=False, index=False)\n",
        "else:\n",
        "    # Create a new file with header\n",
        "    df.to_csv(csv_file, index=False)"
      ]
    }
  ],
  "metadata": {
    "colab": {
      "provenance": []
    },
    "kernelspec": {
      "display_name": "Python 3",
      "name": "python3"
    },
    "language_info": {
      "name": "python"
    }
  },
  "nbformat": 4,
  "nbformat_minor": 0
}