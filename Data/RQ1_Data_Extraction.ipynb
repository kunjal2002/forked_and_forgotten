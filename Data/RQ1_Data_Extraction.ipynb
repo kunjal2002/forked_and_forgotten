{
  "cells": [
    {
      "cell_type": "code",
      "execution_count": null,
      "metadata": {
        "colab": {
          "base_uri": "https://localhost:8080/"
        },
        "id": "KY3C6DCjfSby",
        "outputId": "86debced-c680-48a2-e3bf-4f1d79ce57b9"
      },
      "outputs": [
        {
          "output_type": "stream",
          "name": "stdout",
          "text": [
            "Requirement already satisfied: PyGithub in /usr/local/lib/python3.11/dist-packages (2.6.0)\n",
            "Requirement already satisfied: pynacl>=1.4.0 in /usr/local/lib/python3.11/dist-packages (from PyGithub) (1.5.0)\n",
            "Requirement already satisfied: requests>=2.14.0 in /usr/local/lib/python3.11/dist-packages (from PyGithub) (2.32.3)\n",
            "Requirement already satisfied: pyjwt>=2.4.0 in /usr/local/lib/python3.11/dist-packages (from pyjwt[crypto]>=2.4.0->PyGithub) (2.10.1)\n",
            "Requirement already satisfied: typing-extensions>=4.0.0 in /usr/local/lib/python3.11/dist-packages (from PyGithub) (4.12.2)\n",
            "Requirement already satisfied: urllib3>=1.26.0 in /usr/local/lib/python3.11/dist-packages (from PyGithub) (2.3.0)\n",
            "Requirement already satisfied: Deprecated in /usr/local/lib/python3.11/dist-packages (from PyGithub) (1.2.18)\n",
            "Requirement already satisfied: cryptography>=3.4.0 in /usr/local/lib/python3.11/dist-packages (from pyjwt[crypto]>=2.4.0->PyGithub) (43.0.3)\n",
            "Requirement already satisfied: cffi>=1.4.1 in /usr/local/lib/python3.11/dist-packages (from pynacl>=1.4.0->PyGithub) (1.17.1)\n",
            "Requirement already satisfied: charset-normalizer<4,>=2 in /usr/local/lib/python3.11/dist-packages (from requests>=2.14.0->PyGithub) (3.4.1)\n",
            "Requirement already satisfied: idna<4,>=2.5 in /usr/local/lib/python3.11/dist-packages (from requests>=2.14.0->PyGithub) (3.10)\n",
            "Requirement already satisfied: certifi>=2017.4.17 in /usr/local/lib/python3.11/dist-packages (from requests>=2.14.0->PyGithub) (2025.1.31)\n",
            "Requirement already satisfied: wrapt<2,>=1.10 in /usr/local/lib/python3.11/dist-packages (from Deprecated->PyGithub) (1.17.2)\n",
            "Requirement already satisfied: pycparser in /usr/local/lib/python3.11/dist-packages (from cffi>=1.4.1->pynacl>=1.4.0->PyGithub) (2.22)\n"
          ]
        }
      ],
      "source": [
        "!pip install PyGithub"
      ]
    },
    {
      "cell_type": "code",
      "execution_count": null,
      "metadata": {
        "id": "I9yIGCBKefZA"
      },
      "outputs": [],
      "source": [
        "from github import Github\n",
        "import datetime\n",
        "import pandas as pd\n",
        "import numpy as np"
      ]
    },
    {
      "cell_type": "code",
      "execution_count": null,
      "metadata": {
        "id": "bQEIyKJPeluy"
      },
      "outputs": [],
      "source": [
        "# Replace with your GitHub Personal Access Token\n",
        "GITHUB_TOKEN = \"Added my personal token here\"\n",
        "g = Github(GITHUB_TOKEN)"
      ]
    },
    {
      "cell_type": "code",
      "execution_count": null,
      "metadata": {
        "id": "autc76gSfcEi"
      },
      "outputs": [],
      "source": [
        "def get_repo_data(repo_name):\n",
        "    repo = g.get_repo(repo_name)\n",
        "    contributors = repo.get_contributors()\n",
        "    issues = repo.get_issues(state='all')\n",
        "    pull_requests = repo.get_pulls(state='all')\n",
        "\n",
        "    stars = repo.stargazers_count\n",
        "    forks = repo.forks_count\n",
        "\n",
        "    contributor_data = []\n",
        "\n",
        "    for contributor in contributors:\n",
        "        contributions = repo.get_stats_contributors()\n",
        "\n",
        "        if contributions:\n",
        "            for stat in contributions:\n",
        "                if stat.author.login == contributor.login:\n",
        "                    contribution_weeks = [week.w for week in stat.weeks if week.c > 0]\n",
        "\n",
        "                    if contribution_weeks:\n",
        "                        first_contribution = min(contribution_weeks)\n",
        "                        last_contribution = max(contribution_weeks)\n",
        "\n",
        "                        # Fetch other activities\n",
        "                        contributor_issues = [issue for issue in issues if issue.user.login == contributor.login]\n",
        "                        contributor_pulls = [pull for pull in pull_requests if pull.user.login == contributor.login]\n",
        "\n",
        "\n",
        "                       # Convert all activities to datetime objects\n",
        "                        all_activities = []\n",
        "                        for week in contribution_weeks:\n",
        "                            all_activities.append(week)\n",
        "                        for issue in contributor_issues:\n",
        "                            all_activities.append(issue.created_at)\n",
        "                        for pull in contributor_pulls:\n",
        "                            all_activities.append(pull.created_at)\n",
        "\n",
        "                        if all_activities:\n",
        "                            first_activity = min(all_activities)\n",
        "                            last_activity = max(all_activities)\n",
        "\n",
        "                            # Calculate Lifespan\n",
        "                            lifespan = (last_activity - first_activity).days\n",
        "\n",
        "                        frequency = len(contribution_weeks)\n",
        "                        retention = (last_contribution - first_contribution) / (\n",
        "                                    60 * 60 * 24 * 7)  # Convert from seconds to weeks\n",
        "\n",
        "                        experience = \"New\" if stat.total < 10 else \"Experienced\"\n",
        "\n",
        "                        contributor_data.append({\n",
        "                            \"Contributor\": contributor.login,\n",
        "                            \"First Contribution\": (first_contribution).replace(tzinfo=None),\n",
        "                            \"Last Contribution\": (last_contribution).replace(tzinfo=None),\n",
        "                            \"Total Contributions\": stat.total,\n",
        "                            \"Frequency\": frequency,\n",
        "                            \"Retention (weeks)\": retention,\n",
        "                            \"Experience\": experience,\n",
        "                            \"First Activity\": first_activity,\n",
        "                            \"Last Activity\": last_activity,\n",
        "                            \"Lifespan (days)\": lifespan\n",
        "                        })\n",
        "\n",
        "    repo_data = {\n",
        "        \"Repository\": repo_name,\n",
        "        \"Stars\": stars,\n",
        "        \"Forks\": forks,\n",
        "        \"Total Issues\": issues.totalCount,\n",
        "        \"Total Pull Requests\": pull_requests.totalCount,\n",
        "        \"Contributors\": contributor_data\n",
        "    }\n",
        "\n",
        "    return repo_data\n"
      ]
    },
    {
      "cell_type": "code",
      "execution_count": null,
      "metadata": {
        "id": "moPHQUP1fcMa"
      },
      "outputs": [],
      "source": [
        "# Example usage\n",
        "repo_name = \"public-apis/public-apis\"  # Updated to target repository\n",
        "repo_data = get_repo_data(repo_name)\n",
        "\n",
        "# Convert to DataFrame\n",
        "columns = [\"Contributor\", \"First Contribution\", \"Last Contribution\", \"Total Contributions\", \"Frequency\", \"Retention (weeks)\", \"Experience\",\"First Activity\",\"Last Activity\",\"Lifespan (days)\"]\n",
        "contributors_df = pd.DataFrame(repo_data['Contributors'], columns=columns)\n",
        "contributors_df = pd.DataFrame(repo_data)\n",
        "# Data Cleaning: Handling missing values\n",
        "# contributors_df.fillna({'Total Contributions': 0, 'Frequency': 0, 'Retention (weeks)': 0}, inplace=True)\n"
      ]
    },
    {
      "cell_type": "code",
      "execution_count": null,
      "metadata": {
        "colab": {
          "base_uri": "https://localhost:8080/"
        },
        "id": "9u44P7Z1fcP5",
        "outputId": "1fed8648-540c-4828-b35b-3ba15f38c8d9"
      },
      "outputs": [
        {
          "output_type": "stream",
          "name": "stdout",
          "text": [
            "Data saved to repo_contributor_data_5.xlsx\n"
          ]
        }
      ],
      "source": [
        "# Save to Excel\n",
        "output_file = \"repo_contributor_data_5.xlsx\"\n",
        "contributors_df.to_excel(output_file, index=False)\n",
        "print(f\"Data saved to {output_file}\")"
      ]
    },
    {
      "cell_type": "markdown",
      "metadata": {
        "id": "AR-j4lQaZvZn"
      },
      "source": [
        "# New Section"
      ]
    }
  ],
  "metadata": {
    "accelerator": "GPU",
    "colab": {
      "gpuType": "T4",
      "provenance": []
    },
    "kernelspec": {
      "display_name": "Python 3",
      "name": "python3"
    },
    "language_info": {
      "name": "python"
    }
  },
  "nbformat": 4,
  "nbformat_minor": 0
}